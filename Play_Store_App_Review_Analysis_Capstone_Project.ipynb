{
  "nbformat": 4,
  "nbformat_minor": 0,
  "metadata": {
    "kernelspec": {
      "display_name": "Python 3",
      "language": "python",
      "name": "python3"
    },
    "language_info": {
      "codemirror_mode": {
        "name": "ipython",
        "version": 3
      },
      "file_extension": ".py",
      "mimetype": "text/x-python",
      "name": "python",
      "nbconvert_exporter": "python",
      "pygments_lexer": "ipython3",
      "version": "3.6.6"
    },
    "colab": {
      "name": "Play Store App Review Analysis - Capstone Project.ipynb",
      "provenance": [],
      "include_colab_link": true
    }
  },
  "cells": [
    {
      "cell_type": "markdown",
      "metadata": {
        "id": "view-in-github",
        "colab_type": "text"
      },
      "source": [
        "<a href=\"https://colab.research.google.com/github/ganathetechie/AlmaBetter-Capstone-Projects/blob/main/Play_Store_App_Review_Analysis_Capstone_Project.ipynb\" target=\"_parent\"><img src=\"https://colab.research.google.com/assets/colab-badge.svg\" alt=\"Open In Colab\"/></a>"
      ]
    },
    {
      "cell_type": "markdown",
      "metadata": {
        "id": "Y06xIdG26kRF"
      },
      "source": [
        "## <b> The Play Store apps data has enormous potential to drive app-making businesses to success. Actionable insights can be drawn for developers to work on and capture the Android market. </b>\n",
        "\n",
        "## <b> Each app (row) has values for catergory, rating, size, and more. Another dataset contains customer reviews of the android apps.</b>\n",
        "\n",
        "## <b> Explore and analyze the data to discover key factors responsible for app engagement and success. </b>"
      ]
    },
    {
      "cell_type": "markdown",
      "metadata": {
        "id": "aYrv6E8mCOsV"
      },
      "source": [
        "In this notebook, we are exploring the playstore apps data. The data set has 13 parameters or columns with 10,000 + observations. \n",
        "\n",
        "Android app market is a billion dollar business and so is highly competetive in nature. This makes the developers to always build applications which drive more engagement and accepted by the large nuumber of audience.\n",
        "So, it is essential for the app developers to know the statistics and draw insignts from the available data in order to understand the market and develop applications which drive more business.\n",
        "\n",
        "Therefore, we should draw some key insights from the available dataset to answer some of the following questions:\n",
        "\n",
        "\n",
        "\n",
        "1.   Which apps has highest number of installs among paid and free?\n",
        "2.   Which category has the highest users in paid and free app markets?\n",
        "3.   What is the average price of the apps in each category among paid apps?\n",
        "4.   What are the top 10 apps in terms of revenue?\n",
        "5.   Comparing user ratings between paid and free apps across the categories.\n",
        "6.   Find the most popular apps in the market, Infer some reasons for popularity.\n",
        "7.   Which is the top app category in terms of installs?\n",
        "8.   Reason around the factors that influence the user ratings, engagement and satisfaction in the app market\n",
        "9.   Find the correlation between:\n",
        "        *   Content category - Genres\n",
        "        *   \n",
        "\n",
        "\n",
        "\n",
        "\n",
        "\n",
        "\n",
        "\n",
        "\n",
        "---\n",
        "\n",
        "\n",
        "\n",
        "\n"
      ]
    },
    {
      "cell_type": "markdown",
      "metadata": {
        "id": "lZgfCfriQJLV"
      },
      "source": [
        "# Importing the required libraries and dataset for exploration"
      ]
    },
    {
      "cell_type": "code",
      "metadata": {
        "id": "dByMsuzT8Tnw"
      },
      "source": [
        "# Importing the pandas,matplotlib and seaborn libraries\n",
        "import pandas as pd\n",
        "import matplotlib.pyplot as plt\n",
        "import seaborn as sns"
      ],
      "execution_count": 1,
      "outputs": []
    },
    {
      "cell_type": "code",
      "metadata": {
        "id": "aAMSFHz1QvX5"
      },
      "source": [
        ""
      ],
      "execution_count": null,
      "outputs": []
    }
  ]
}